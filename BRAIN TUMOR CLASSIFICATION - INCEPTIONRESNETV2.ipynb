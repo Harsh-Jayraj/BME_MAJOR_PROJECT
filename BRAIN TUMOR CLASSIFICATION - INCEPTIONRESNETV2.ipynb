{
 "cells": [
  {
   "cell_type": "code",
   "execution_count": 1,
   "metadata": {},
   "outputs": [],
   "source": [
    "import pandas as pd\n",
    "import numpy as np\n",
    "import cv2,os\n",
    "import tensorflow as tf\n",
    "from tensorflow.keras.utils import to_categorical"
   ]
  },
  {
   "cell_type": "code",
   "execution_count": 2,
   "metadata": {},
   "outputs": [],
   "source": [
    "import pathlib"
   ]
  },
  {
   "cell_type": "code",
   "execution_count": 3,
   "metadata": {},
   "outputs": [],
   "source": [
    "label_dict={\"no_tumor\":0,\"glioma_tumor\":1,\"meningioma_tumor\":2,\"pituitary_tumor\":3}\n",
    "categories=[\"no_tumor\",\"glioma_tumor\",\"meningioma_tumor\",\"pituitary_tumor\"]\n",
    "labels=[0,1,2,3]"
   ]
  },
  {
   "cell_type": "code",
   "execution_count": 4,
   "metadata": {},
   "outputs": [],
   "source": [
    "train_data_path=\"btd_class/Training\"\n",
    "test_data_path=\"btd_class/Testing\"\n",
    "data_dir = \"btd_class/Training\"\n",
    "data_dir=pathlib.Path(data_dir)"
   ]
  },
  {
   "cell_type": "code",
   "execution_count": 5,
   "metadata": {},
   "outputs": [],
   "source": [
    "import matplotlib.pyplot as plt"
   ]
  },
  {
   "cell_type": "code",
   "execution_count": 6,
   "metadata": {},
   "outputs": [],
   "source": [
    "import tensorflow as tf\n",
    "from tensorflow.keras.layers import Dense,Flatten,Dropout\n",
    "from tensorflow.keras.models import Sequential\n",
    "from tensorflow.keras.optimizers import Adam"
   ]
  },
  {
   "cell_type": "code",
   "execution_count": 7,
   "metadata": {},
   "outputs": [],
   "source": [
    "from tensorflow.keras.applications import InceptionResNetV2\n",
    "\n",
    "from tensorflow.keras.preprocessing.image import ImageDataGenerator"
   ]
  },
  {
   "cell_type": "code",
   "execution_count": 16,
   "metadata": {},
   "outputs": [
    {
     "name": "stdout",
     "output_type": "stream",
     "text": [
      "Model: \"sequential_1\"\n",
      "_________________________________________________________________\n",
      "Layer (type)                 Output Shape              Param #   \n",
      "=================================================================\n",
      "inception_resnet_v2 (Functio (None, 3, 3, 1536)        54336736  \n",
      "_________________________________________________________________\n",
      "flatten_1 (Flatten)          (None, 13824)             0         \n",
      "_________________________________________________________________\n",
      "dense_2 (Dense)              (None, 256)               3539200   \n",
      "_________________________________________________________________\n",
      "dropout_1 (Dropout)          (None, 256)               0         \n",
      "_________________________________________________________________\n",
      "dense_3 (Dense)              (None, 4)                 1028      \n",
      "=================================================================\n",
      "Total params: 57,876,964\n",
      "Trainable params: 7,670,564\n",
      "Non-trainable params: 50,206,400\n",
      "_________________________________________________________________\n"
     ]
    }
   ],
   "source": [
    "Conv_Base = InceptionResNetV2(include_top = False, weights = 'imagenet', input_shape = (150,150, 3))\n",
    "\n",
    "for layer in Conv_Base.layers[:-8]:\n",
    "    layer.trainable = False\n",
    "\n",
    "model = Sequential()\n",
    "model.add(Conv_Base)\n",
    "model.add(Flatten())\n",
    "model.add(Dense(units = 256, activation = 'relu'))\n",
    "model.add(Dropout(0.5))\n",
    "model.add(Dense(units = 4, activation = 'softmax'))\n",
    "\n",
    "model.summary()"
   ]
  },
  {
   "cell_type": "code",
   "execution_count": 17,
   "metadata": {},
   "outputs": [
    {
     "name": "stdout",
     "output_type": "stream",
     "text": [
      "Found 2527 images belonging to 4 classes.\n",
      "Found 343 images belonging to 4 classes.\n",
      "Epoch 1/10\n",
      "53/52 [==============================] - 274s 5s/step - loss: 1.6347 - accuracy: 0.6810 - val_loss: 0.6357 - val_accuracy: 0.7697\n",
      "Epoch 2/10\n",
      "53/52 [==============================] - 273s 5s/step - loss: 0.4321 - accuracy: 0.8370 - val_loss: 0.5249 - val_accuracy: 0.8192\n",
      "Epoch 3/10\n",
      "53/52 [==============================] - 268s 5s/step - loss: 0.2890 - accuracy: 0.8932 - val_loss: 0.6062 - val_accuracy: 0.8105\n",
      "Epoch 4/10\n",
      "53/52 [==============================] - 269s 5s/step - loss: 0.2467 - accuracy: 0.9098 - val_loss: 0.5369 - val_accuracy: 0.8134\n",
      "Epoch 5/10\n",
      "53/52 [==============================] - 268s 5s/step - loss: 0.1728 - accuracy: 0.9375 - val_loss: 0.8201 - val_accuracy: 0.7988\n",
      "Epoch 6/10\n",
      "53/52 [==============================] - 271s 5s/step - loss: 0.1345 - accuracy: 0.9529 - val_loss: 0.7658 - val_accuracy: 0.8076\n",
      "Epoch 7/10\n",
      "53/52 [==============================] - 267s 5s/step - loss: 0.1446 - accuracy: 0.9501 - val_loss: 0.6874 - val_accuracy: 0.7813\n",
      "Epoch 8/10\n",
      "53/52 [==============================] - 269s 5s/step - loss: 0.1017 - accuracy: 0.9679 - val_loss: 1.0368 - val_accuracy: 0.7843\n",
      "Epoch 9/10\n",
      "53/52 [==============================] - 268s 5s/step - loss: 0.1123 - accuracy: 0.9664 - val_loss: 1.3091 - val_accuracy: 0.7580\n",
      "Epoch 10/10\n",
      "53/52 [==============================] - 270s 5s/step - loss: 0.0780 - accuracy: 0.9739 - val_loss: 1.0303 - val_accuracy: 0.7901\n"
     ]
    }
   ],
   "source": [
    "batch_size = 48\n",
    "\n",
    "Train_Datagen = ImageDataGenerator(dtype = 'float32', preprocessing_function=tf.keras.applications.inception_resnet_v2.preprocess_input,validation_split=0.12)\n",
    "Val_Datagen = ImageDataGenerator(dtype = 'float32', preprocessing_function=tf.keras.applications.inception_resnet_v2.preprocess_input,validation_split=0.12)\n",
    "\n",
    "train_gen = Train_Datagen.flow_from_directory(directory = train_data_path, target_size = (150,150), \n",
    "                                       batch_size = batch_size, class_mode = 'categorical',subset=\"training\")\n",
    "\n",
    "val_gen = Val_Datagen.flow_from_directory(directory = train_data_path, target_size = (150,150), \n",
    "                                       batch_size = batch_size, class_mode = 'categorical',subset=\"validation\")\n",
    "\n",
    "epochs = 10\n",
    "Number_Of_Training_Images = train_gen.classes.shape[0]\n",
    "steps_per_epoch = Number_Of_Training_Images/batch_size\n",
    "\n",
    "model.compile(optimizer = 'Adam', loss = 'categorical_crossentropy', metrics = ['accuracy'])\n",
    "\n",
    "history = model.fit(train_gen, epochs = epochs, \n",
    "                    #batch_size = batch_size,\n",
    "                    validation_data = val_gen, steps_per_epoch = steps_per_epoch)"
   ]
  },
  {
   "cell_type": "code",
   "execution_count": 18,
   "metadata": {},
   "outputs": [
    {
     "data": {
      "image/png": "[encoded data removed]",
      "text/plain": [
       "<Figure size 432x288 with 1 Axes>"
      ]
     },
     "metadata": {
      "needs_background": "light"
     },
     "output_type": "display_data"
    }
   ],
   "source": [
    "fig3 = plt.gcf()\n",
    "plt.plot(history.history['accuracy'])\n",
    "plt.plot(history.history['val_accuracy'])\n",
    "plt.axis(ymin=0.2,ymax=1)\n",
    "plt.grid()\n",
    "plt.title('Model Accuracy')\n",
    "plt.ylabel('Accuracy')\n",
    "plt.xlabel('Epochs')\n",
    "plt.savefig('InceptionResNetAcc.png')\n",
    "plt.legend(['train', 'validation'])\n",
    "plt.show()"
   ]
  },
  {
   "cell_type": "code",
   "execution_count": 19,
   "metadata": {},
   "outputs": [
    {
     "data": {
      "image/png": "[encoded data removed]",
      "text/plain": [
       "<Figure size 432x288 with 1 Axes>"
      ]
     },
     "metadata": {
      "needs_background": "light"
     },
     "output_type": "display_data"
    }
   ],
   "source": [
    "fig2 = plt.gcf()\n",
    "plt.plot(history.history['loss'])\n",
    "plt.plot(history.history['val_loss'])\n",
    "plt.axis(ymin=0,ymax=6)\n",
    "plt.grid()\n",
    "plt.title('Model Accuracy')\n",
    "plt.ylabel('Accuracy')\n",
    "plt.xlabel('Epochs')\n",
    "plt.legend(['train', 'validation'])\n",
    "plt.savefig('InceptionResNetLoss.png')\n",
    "plt.show()"
   ]
  },
  {
   "cell_type": "code",
   "execution_count": 29,
   "metadata": {},
   "outputs": [],
   "source": [
    "test_datagen = ImageDataGenerator(preprocessing_function=tf.keras.applications.inception_resnet_v2.preprocess_input)"
   ]
  },
  {
   "cell_type": "code",
   "execution_count": 30,
   "metadata": {},
   "outputs": [
    {
     "name": "stdout",
     "output_type": "stream",
     "text": [
      "Found 394 images belonging to 4 classes.\n"
     ]
    }
   ],
   "source": [
    "test_data = test_datagen.flow_from_directory(\n",
    "    test_data_path,\n",
    "    target_size=(150, 150),\n",
    "    batch_size=32,\n",
    "    class_mode='categorical')"
   ]
  },
  {
   "cell_type": "code",
   "execution_count": 31,
   "metadata": {},
   "outputs": [
    {
     "name": "stdout",
     "output_type": "stream",
     "text": [
      "13/13 [==============================] - 33s 3s/step - loss: 1.9085 - accuracy: 0.7741\n"
     ]
    }
   ],
   "source": [
    "scoreSeg = model.evaluate(test_data)"
   ]
  },
  {
   "cell_type": "code",
   "execution_count": 50,
   "metadata": {},
   "outputs": [],
   "source": [
    "Y_pred = model.predict(test_data, 394 // 32+1)\n",
    "y_pred = np.argmax(Y_pred, axis=1)"
   ]
  },
  {
   "cell_type": "code",
   "execution_count": null,
   "metadata": {},
   "outputs": [],
   "source": []
  },
  {
   "cell_type": "code",
   "execution_count": 51,
   "metadata": {},
   "outputs": [],
   "source": [
    "from sklearn.metrics import accuracy_score,classification_report,confusion_matrix,roc_curve"
   ]
  },
  {
   "cell_type": "code",
   "execution_count": 52,
   "metadata": {},
   "outputs": [
    {
     "name": "stdout",
     "output_type": "stream",
     "text": [
      "[[12 39 38 11]\n",
      " [12 51 32 20]\n",
      " [17 41 36 11]\n",
      " [ 4 41 17 12]]\n"
     ]
    }
   ],
   "source": [
    "print(confusion_matrix(test_data.classes, y_pred))\n"
   ]
  },
  {
   "cell_type": "code",
   "execution_count": 53,
   "metadata": {},
   "outputs": [
    {
     "name": "stdout",
     "output_type": "stream",
     "text": [
      "                  precision    recall  f1-score   support\n",
      "\n",
      "        no_tumor       0.27      0.12      0.17       100\n",
      "    glioma_tumor       0.30      0.44      0.36       115\n",
      "meningioma_tumor       0.29      0.34      0.32       105\n",
      " pituitary_tumor       0.22      0.16      0.19        74\n",
      "\n",
      "        accuracy                           0.28       394\n",
      "       macro avg       0.27      0.27      0.26       394\n",
      "    weighted avg       0.27      0.28      0.27       394\n",
      "\n"
     ]
    }
   ],
   "source": [
    "print(classification_report(test_data.classes, y_pred, target_names=categories))"
   ]
  },
  {
   "cell_type": "code",
   "execution_count": null,
   "metadata": {},
   "outputs": [],
   "source": []
  }
 ],
 "metadata": {
  "kernelspec": {
   "display_name": "Python 3",
   "language": "python",
   "name": "python3"
  },
  "language_info": {
   "codemirror_mode": {
    "name": "ipython",
    "version": 3
   },
   "file_extension": ".py",
   "mimetype": "text/x-python",
   "name": "python",
   "nbconvert_exporter": "python",
   "pygments_lexer": "ipython3",
   "version": "3.8.3"
  }
 },
 "nbformat": 4,
 "nbformat_minor": 4
}
