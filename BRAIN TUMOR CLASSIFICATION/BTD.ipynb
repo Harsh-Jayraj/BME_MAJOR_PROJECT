{
 "cells": [
  {
   "cell_type": "code",
   "execution_count": 1,
   "metadata": {},
   "outputs": [],
   "source": [
    "import pandas as pd\n",
    "import numpy as np"
   ]
  },
  {
   "cell_type": "code",
   "execution_count": 2,
   "metadata": {},
   "outputs": [],
   "source": [
    "label_dict={\"no\":0,\"yes\":1}"
   ]
  },
  {
   "cell_type": "code",
   "execution_count": 3,
   "metadata": {},
   "outputs": [],
   "source": [
    "categories=[\"no\",\"yes\"]"
   ]
  },
  {
   "cell_type": "code",
   "execution_count": 4,
   "metadata": {},
   "outputs": [],
   "source": [
    "labels=[0,1]"
   ]
  },
  {
   "cell_type": "code",
   "execution_count": 5,
   "metadata": {},
   "outputs": [],
   "source": [
    "data_path=\"Brain_Tumor_Detection/\""
   ]
  },
  {
   "cell_type": "code",
   "execution_count": 6,
   "metadata": {},
   "outputs": [],
   "source": [
    "import cv2,os"
   ]
  },
  {
   "cell_type": "code",
   "execution_count": 7,
   "metadata": {},
   "outputs": [],
   "source": [
    "data=[]\n",
    "target=[]"
   ]
  },
  {
   "cell_type": "code",
   "execution_count": 8,
   "metadata": {},
   "outputs": [],
   "source": [
    "#Reading files from folder and storing the into list as data and thier label in list as target \n",
    "\n",
    "for category in categories:\n",
    "    folder_path=os.path.join(data_path,category)\n",
    "    img_names=os.listdir(folder_path)\n",
    "    for img_name in img_names:\n",
    "        img_path=os.path.join(folder_path,img_name)\n",
    "        img=cv2.imread(img_path)\n",
    "        try: \n",
    "            gray=cv2.cvtColor(img,cv2.COLOR_BGR2GRAY)\n",
    "            resized=cv2.resize(gray,(100,100))\n",
    "            data.append(resized)\n",
    "            target.append(label_dict[category])\n",
    "        except Exception as e:\n",
    "            pass"
   ]
  },
  {
   "cell_type": "markdown",
   "metadata": {},
   "source": [
    "## PREPROCESSING"
   ]
  },
  {
   "cell_type": "markdown",
   "metadata": {},
   "source": [
    "WORKING WITH IMAGE DATA"
   ]
  },
  {
   "cell_type": "code",
   "execution_count": 10,
   "metadata": {},
   "outputs": [],
   "source": [
    "# Converting list to numpy array for easier and faster mathematical operations\n",
    "data=np.array(data)"
   ]
  },
  {
   "cell_type": "code",
   "execution_count": 11,
   "metadata": {},
   "outputs": [],
   "source": [
    "#Normalization of Data\n",
    "data=data/255"
   ]
  },
  {
   "cell_type": "code",
   "execution_count": 22,
   "metadata": {},
   "outputs": [
    {
     "data": {
      "text/plain": [
       "(3000, 100, 100)"
      ]
     },
     "execution_count": 22,
     "metadata": {},
     "output_type": "execute_result"
    }
   ],
   "source": [
    "data.shape"
   ]
  },
  {
   "cell_type": "code",
   "execution_count": 23,
   "metadata": {},
   "outputs": [],
   "source": [
    "#Reshaping the data showing Prescence of only sinlge colour channel or grayscale image\n",
    "data=np.reshape(data,(data.shape[0],100,100,1)) "
   ]
  },
  {
   "cell_type": "code",
   "execution_count": 25,
   "metadata": {},
   "outputs": [
    {
     "data": {
      "text/plain": [
       "(100, 100, 1)"
      ]
     },
     "execution_count": 25,
     "metadata": {},
     "output_type": "execute_result"
    }
   ],
   "source": [
    "data.shape[1:]"
   ]
  },
  {
   "cell_type": "markdown",
   "metadata": {},
   "source": [
    "NOW WORKING WITH TARGET/LABEL DATA"
   ]
  },
  {
   "cell_type": "code",
   "execution_count": 26,
   "metadata": {},
   "outputs": [
    {
     "data": {
      "text/plain": [
       "(3000,)"
      ]
     },
     "execution_count": 26,
     "metadata": {},
     "output_type": "execute_result"
    }
   ],
   "source": [
    "#Conveting type of target from list to numpy array\n",
    "target=np.array(target)\n",
    "target.shape"
   ]
  },
  {
   "cell_type": "code",
   "execution_count": 30,
   "metadata": {},
   "outputs": [],
   "source": [
    "from tensorflow.keras.utils import to_categorical"
   ]
  },
  {
   "cell_type": "code",
   "execution_count": 31,
   "metadata": {},
   "outputs": [
    {
     "data": {
      "text/plain": [
       "(3000, 2)"
      ]
     },
     "execution_count": 31,
     "metadata": {},
     "output_type": "execute_result"
    }
   ],
   "source": [
    "new_target=to_categorical(target) #Converting the target into categorical data\n",
    "new_target.shape"
   ]
  },
  {
   "cell_type": "markdown",
   "metadata": {},
   "source": [
    "## BUILDING THE MODEL"
   ]
  },
  {
   "cell_type": "markdown",
   "metadata": {},
   "source": [
    "IMPORTING NECESSARY LIBRARIES"
   ]
  },
  {
   "cell_type": "code",
   "execution_count": 32,
   "metadata": {},
   "outputs": [],
   "source": [
    "from tensorflow.keras.models import Sequential\n",
    "from tensorflow.keras.layers import Dense, Activation, Flatten, Dropout\n",
    "from tensorflow.keras.layers import Conv2D,MaxPooling2D"
   ]
  },
  {
   "cell_type": "markdown",
   "metadata": {},
   "source": [
    "CREATING MODEL AND ADDING LAYERS"
   ]
  },
  {
   "cell_type": "code",
   "execution_count": 33,
   "metadata": {},
   "outputs": [],
   "source": [
    "model = Sequential()\n",
    "model.add(Conv2D(200,(3,3),input_shape=data.shape[1:],activation=\"relu\"))\n",
    "model.add(MaxPooling2D(pool_size=(2,2)))\n",
    "model.add(Conv2D(100, (3, 3), activation='relu')) \n",
    "model.add(MaxPooling2D(pool_size=(2,2)))\n",
    "model.add(Flatten())\n",
    "model.add(Dropout(0.5))\n",
    "model.add(Dense(50,activation=\"relu\"))\n",
    "model.add(Dense(2,activation='softmax'))"
   ]
  },
  {
   "cell_type": "markdown",
   "metadata": {},
   "source": [
    "COMPILING THE MODEL"
   ]
  },
  {
   "cell_type": "code",
   "execution_count": 34,
   "metadata": {},
   "outputs": [],
   "source": [
    "model.compile(loss = \"categorical_crossentropy\", optimizer = \"adam\", metrics = [\"accuracy\"])"
   ]
  },
  {
   "cell_type": "code",
   "execution_count": 35,
   "metadata": {},
   "outputs": [],
   "source": [
    "from sklearn.model_selection import train_test_split"
   ]
  },
  {
   "cell_type": "markdown",
   "metadata": {},
   "source": [
    "SPLITIING THE DATA INTO TRAIN AND TEST"
   ]
  },
  {
   "cell_type": "code",
   "execution_count": 36,
   "metadata": {},
   "outputs": [],
   "source": [
    "train_data,test_data,train_target,test_target=train_test_split(data,new_target,test_size=0.2)"
   ]
  },
  {
   "cell_type": "code",
   "execution_count": 38,
   "metadata": {},
   "outputs": [],
   "source": [
    "from tensorflow.keras.callbacks import ModelCheckpoint"
   ]
  },
  {
   "cell_type": "markdown",
   "metadata": {},
   "source": [
    "FITTING THE DATA AND DETERMINING THE ACCURACY OF THE MODEL"
   ]
  },
  {
   "cell_type": "code",
   "execution_count": 39,
   "metadata": {},
   "outputs": [
    {
     "name": "stdout",
     "output_type": "stream",
     "text": [
      "Epoch 1/20\n",
      "60/60 [==============================] - ETA: 0s - loss: 0.5261 - accuracy: 0.7370WARNING:tensorflow:From C:\\ProgramData\\Anaconda3\\lib\\site-packages\\tensorflow\\python\\training\\tracking\\tracking.py:111: Model.state_updates (from tensorflow.python.keras.engine.training) is deprecated and will be removed in a future version.\n",
      "Instructions for updating:\n",
      "This property should not be used in TensorFlow 2.0, as updates are applied automatically.\n",
      "WARNING:tensorflow:From C:\\ProgramData\\Anaconda3\\lib\\site-packages\\tensorflow\\python\\training\\tracking\\tracking.py:111: Layer.updates (from tensorflow.python.keras.engine.base_layer) is deprecated and will be removed in a future version.\n",
      "Instructions for updating:\n",
      "This property should not be used in TensorFlow 2.0, as updates are applied automatically.\n",
      "INFO:tensorflow:Assets written to: model-001.model\\assets\n",
      "60/60 [==============================] - 145s 2s/step - loss: 0.5261 - accuracy: 0.7370 - val_loss: 0.3524 - val_accuracy: 0.8583\n",
      "Epoch 2/20\n",
      "60/60 [==============================] - ETA: 0s - loss: 0.3232 - accuracy: 0.8568INFO:tensorflow:Assets written to: model-002.model\\assets\n",
      "60/60 [==============================] - 132s 2s/step - loss: 0.3232 - accuracy: 0.8568 - val_loss: 0.2508 - val_accuracy: 0.9125\n",
      "Epoch 3/20\n",
      "60/60 [==============================] - ETA: 0s - loss: 0.1972 - accuracy: 0.9234INFO:tensorflow:Assets written to: model-003.model\\assets\n",
      "60/60 [==============================] - 134s 2s/step - loss: 0.1972 - accuracy: 0.9234 - val_loss: 0.1518 - val_accuracy: 0.9375\n",
      "Epoch 4/20\n",
      "60/60 [==============================] - ETA: 0s - loss: 0.1250 - accuracy: 0.9542INFO:tensorflow:Assets written to: model-004.model\\assets\n",
      "60/60 [==============================] - 122s 2s/step - loss: 0.1250 - accuracy: 0.9542 - val_loss: 0.1212 - val_accuracy: 0.9646\n",
      "Epoch 5/20\n",
      "60/60 [==============================] - ETA: 0s - loss: 0.0718 - accuracy: 0.9760INFO:tensorflow:Assets written to: model-005.model\\assets\n",
      "60/60 [==============================] - 143s 2s/step - loss: 0.0718 - accuracy: 0.9760 - val_loss: 0.1198 - val_accuracy: 0.9625\n",
      "Epoch 6/20\n",
      "60/60 [==============================] - ETA: 0s - loss: 0.0441 - accuracy: 0.9859INFO:tensorflow:Assets written to: model-006.model\\assets\n",
      "60/60 [==============================] - 135s 2s/step - loss: 0.0441 - accuracy: 0.9859 - val_loss: 0.0796 - val_accuracy: 0.9771\n",
      "Epoch 7/20\n",
      "60/60 [==============================] - ETA: 0s - loss: 0.0311 - accuracy: 0.9917INFO:tensorflow:Assets written to: model-007.model\\assets\n",
      "60/60 [==============================] - 126s 2s/step - loss: 0.0311 - accuracy: 0.9917 - val_loss: 0.0624 - val_accuracy: 0.9771\n",
      "Epoch 8/20\n",
      "60/60 [==============================] - ETA: 0s - loss: 0.0236 - accuracy: 0.9937INFO:tensorflow:Assets written to: model-008.model\\assets\n",
      "60/60 [==============================] - 127s 2s/step - loss: 0.0236 - accuracy: 0.9937 - val_loss: 0.0594 - val_accuracy: 0.9792\n",
      "Epoch 9/20\n",
      "60/60 [==============================] - 124s 2s/step - loss: 0.0143 - accuracy: 0.9943 - val_loss: 0.0725 - val_accuracy: 0.9792\n",
      "Epoch 10/20\n",
      "60/60 [==============================] - 125s 2s/step - loss: 0.0136 - accuracy: 0.9953 - val_loss: 0.0773 - val_accuracy: 0.9792\n",
      "Epoch 11/20\n",
      "60/60 [==============================] - 124s 2s/step - loss: 0.0104 - accuracy: 0.9964 - val_loss: 0.0774 - val_accuracy: 0.9812\n",
      "Epoch 12/20\n",
      "60/60 [==============================] - 120s 2s/step - loss: 0.0175 - accuracy: 0.9943 - val_loss: 0.1140 - val_accuracy: 0.9792\n",
      "Epoch 13/20\n",
      "60/60 [==============================] - 120s 2s/step - loss: 0.0148 - accuracy: 0.9932 - val_loss: 0.0860 - val_accuracy: 0.9812\n",
      "Epoch 14/20\n",
      "60/60 [==============================] - 122s 2s/step - loss: 0.0104 - accuracy: 0.9979 - val_loss: 0.0595 - val_accuracy: 0.9854\n",
      "Epoch 15/20\n",
      "60/60 [==============================] - 121s 2s/step - loss: 0.0060 - accuracy: 0.9984 - val_loss: 0.1173 - val_accuracy: 0.9833\n",
      "Epoch 16/20\n",
      "60/60 [==============================] - 121s 2s/step - loss: 0.0028 - accuracy: 1.0000 - val_loss: 0.0999 - val_accuracy: 0.9812\n",
      "Epoch 17/20\n",
      "60/60 [==============================] - 124s 2s/step - loss: 0.0141 - accuracy: 0.9974 - val_loss: 0.1169 - val_accuracy: 0.9771\n",
      "Epoch 18/20\n",
      "60/60 [==============================] - 124s 2s/step - loss: 0.0344 - accuracy: 0.9885 - val_loss: 0.0677 - val_accuracy: 0.9792\n",
      "Epoch 19/20\n",
      "60/60 [==============================] - 130s 2s/step - loss: 0.0166 - accuracy: 0.9943 - val_loss: 0.0803 - val_accuracy: 0.9792\n",
      "Epoch 20/20\n",
      "60/60 [==============================] - 140s 2s/step - loss: 0.0064 - accuracy: 0.9979 - val_loss: 0.0993 - val_accuracy: 0.9833\n"
     ]
    }
   ],
   "source": [
    "checkpoint=ModelCheckpoint(\"model-{epoch:03d}.model\",save_best_only=True,mode=\"auto\")\n",
    "history=model.fit(train_data,train_target,epochs=20,validation_split=0.2,callbacks=[checkpoint])"
   ]
  },
  {
   "cell_type": "markdown",
   "metadata": {},
   "source": [
    "## TESTING MODEL ON TEST DATASET"
   ]
  },
  {
   "cell_type": "code",
   "execution_count": 56,
   "metadata": {},
   "outputs": [],
   "source": [
    "import matplotlib.pyplot as plt"
   ]
  },
  {
   "cell_type": "code",
   "execution_count": 61,
   "metadata": {},
   "outputs": [
    {
     "data": {
      "image/png": "[encoded data removed]",
      "text/plain": [
       "<Figure size 432x288 with 1 Axes>"
      ]
     },
     "metadata": {
      "needs_background": "light"
     },
     "output_type": "display_data"
    }
   ],
   "source": [
    "#accuracy\n",
    "plt.plot(history.history['accuracy'], label='train acc')\n",
    "plt.plot(history.history['val_accuracy'], label='val acc')\n",
    "plt.legend()\n",
    "plt.savefig('model-1.png')\n",
    "plt.show()"
   ]
  },
  {
   "cell_type": "code",
   "execution_count": 62,
   "metadata": {},
   "outputs": [
    {
     "data": {
      "image/png": "[encoded data removed]",
      "text/plain": [
       "<Figure size 432x288 with 1 Axes>"
      ]
     },
     "metadata": {
      "needs_background": "light"
     },
     "output_type": "display_data"
    }
   ],
   "source": [
    "# loss\n",
    "plt.plot(history.history['loss'], label='train loss')\n",
    "plt.plot(history.history['val_loss'], label='val loss')\n",
    "plt.legend()\n",
    "plt.savefig('model.png')\n",
    "plt.show()"
   ]
  },
  {
   "cell_type": "code",
   "execution_count": 63,
   "metadata": {},
   "outputs": [
    {
     "name": "stdout",
     "output_type": "stream",
     "text": [
      "19/19 [==============================] - 10s 537ms/step - loss: 0.3125 - accuracy: 0.9667\n"
     ]
    },
    {
     "data": {
      "text/plain": [
       "[0.3125450015068054, 0.9666666388511658]"
      ]
     },
     "execution_count": 63,
     "metadata": {},
     "output_type": "execute_result"
    }
   ],
   "source": [
    "model.evaluate(test_data,test_target,batch_size=32)"
   ]
  },
  {
   "cell_type": "code",
   "execution_count": 64,
   "metadata": {},
   "outputs": [],
   "source": [
    "from sklearn.metrics import accuracy_score,classification_report,confusion_matrix"
   ]
  },
  {
   "cell_type": "code",
   "execution_count": 74,
   "metadata": {},
   "outputs": [],
   "source": [
    "#predict\n",
    "y_pred=model.predict(test_data)\n",
    "y_pred=np.argmax(y_pred,axis=1)\n",
    "test_target = np.argmax(test_target,axis=1)"
   ]
  },
  {
   "cell_type": "code",
   "execution_count": 75,
   "metadata": {},
   "outputs": [
    {
     "name": "stdout",
     "output_type": "stream",
     "text": [
      "              precision    recall  f1-score   support\n",
      "\n",
      "           0       0.96      0.98      0.97       288\n",
      "           1       0.98      0.96      0.97       312\n",
      "\n",
      "    accuracy                           0.97       600\n",
      "   macro avg       0.97      0.97      0.97       600\n",
      "weighted avg       0.97      0.97      0.97       600\n",
      "\n"
     ]
    }
   ],
   "source": [
    "#get classification report\n",
    "\n",
    "print(classification_report(y_pred,test_target))"
   ]
  },
  {
   "cell_type": "code",
   "execution_count": 76,
   "metadata": {},
   "outputs": [
    {
     "name": "stdout",
     "output_type": "stream",
     "text": [
      "[[281   7]\n",
      " [ 13 299]]\n"
     ]
    }
   ],
   "source": [
    "#get confusion matrix\n",
    "print(confusion_matrix(y_pred,test_target))"
   ]
  },
  {
   "cell_type": "code",
   "execution_count": null,
   "metadata": {},
   "outputs": [],
   "source": []
  }
 ],
 "metadata": {
  "kernelspec": {
   "display_name": "Python 3",
   "language": "python",
   "name": "python3"
  },
  "language_info": {
   "codemirror_mode": {
    "name": "ipython",
    "version": 3
   },
   "file_extension": ".py",
   "mimetype": "text/x-python",
   "name": "python",
   "nbconvert_exporter": "python",
   "pygments_lexer": "ipython3",
   "version": "3.8.3"
  }
 },
 "nbformat": 4,
 "nbformat_minor": 4
}
